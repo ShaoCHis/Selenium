{
 "cells": [
  {
   "cell_type": "markdown",
   "metadata": {
    "collapsed": true,
    "pycharm": {
     "name": "#%% md\n"
    }
   },
   "source": [
    "# 选择框操作\n",
    "[练习网站](https://cdn2.byhy.net/files/selenium/test2.html)\n",
    ">在网页的开发中有多种类的选择框，圆形为radio选择框，方形为checkbox选择框，还有select框，单选框和多选框等等"
   ]
  },
  {
   "cell_type": "code",
   "execution_count": null,
   "outputs": [],
   "source": [
    "from selenium import webdriver\n",
    "from selenium.webdriver.common.by import By\n",
    "\n",
    "wd = webdriver.Chrome(executable_path=r'D:\\chromedriver_win32\\chromedriver.exe')\n",
    "wd.implicitly_wait(5)\n",
    "wd.get('https://cdn2.byhy.net/files/selenium/test2.html')"
   ],
   "metadata": {
    "collapsed": false,
    "pycharm": {
     "name": "#%%\n"
    }
   }
  },
  {
   "cell_type": "markdown",
   "source": [
    "## select框\n",
    ">radio框以及checkbox框都是input元素，只是里面的type不同而已\n",
    "\n",
    "select框为select标签，对于select选择框，selenium专门提供了一个Select类进行操作\n",
    "Select类提供了如下的方法：\n",
    "- select_by_value\n",
    "根据选项的 value属性值，选择元素;比如，下面的HTML就可以使用s.select_by_value('foo')来选择该选项\n",
    "```html\n",
    "<option value=\"foo\">Bar</option>\n",
    "```\n",
    "- select_by_index\n",
    "根据选项的次序（从1开始），选择元素\n",
    "- select_by_visible_text\n",
    "根据选项的可见文本，选择元素；比如，下面的HTML就可以使用Bar这个内容选择该选项，s.select_by_visible_text('Bar')\n",
    "```html\n",
    "<option value=\"foo\">Bar</option>\n",
    "```\n",
    "- deselect_by_value\n",
    "根据选项的value属性值，去除选中元素\n",
    "- deselect_by_index\n",
    "根据选项的次序，去除选中元素\n",
    "- deselect_by_visible_text\n",
    "根据选项的可见文本，去除选中元素\n",
    "- deselect_all\n",
    "去除选中所有元素"
   ],
   "metadata": {
    "collapsed": false,
    "pycharm": {
     "name": "#%% md\n"
    }
   }
  },
  {
   "cell_type": "markdown",
   "source": [
    "### select单选框\n",
    ">对于select单选框，不管原来选的是什么，直接使用select方法选择即可，单选\n",
    "\n",
    "例如：选择示例里面的小雷老师，示例代码如下："
   ],
   "metadata": {
    "collapsed": false,
    "pycharm": {
     "name": "#%% md\n"
    }
   }
  },
  {
   "cell_type": "code",
   "execution_count": null,
   "outputs": [],
   "source": [
    "# 导入Select类\n",
    "from selenium.webdriver.support.ui import Select\n",
    "\n",
    "# 创建Select对象\n",
    "select = Select(wd.find_element(By.ID, \"ss_single\"))\n",
    "\n",
    "# 通过 Select 对象选中小雷老师\n",
    "select.select_by_visible_text(\"小雷老师\")"
   ],
   "metadata": {
    "collapsed": false,
    "pycharm": {
     "name": "#%%\n"
    }
   }
  },
  {
   "cell_type": "markdown",
   "source": [
    "### select多选框\n",
    ">对于select多选框，要选中某几个选项，要注意去掉原来已经选中的选项。\n",
    "\n",
    "例如：我们选择示例中的小雷老师和小凯老师\n",
    "可以使用select类的deselect_all方法，先去除所有已经选中的选项\n",
    "然后再通过 select_by_visible_text 方法选择小雷老师和小凯老师"
   ],
   "metadata": {
    "collapsed": false,
    "pycharm": {
     "name": "#%% md\n"
    }
   }
  },
  {
   "cell_type": "code",
   "execution_count": null,
   "outputs": [],
   "source": [
    "# 导入Select类\n",
    "from selenium.webdriver.support.ui import Select\n",
    "\n",
    "# 创建Select对象\n",
    "select = Select(wd.find_element(By.ID, \"ss_multi\"))\n",
    "\n",
    "# 清除所有 已经选中 的选项\n",
    "select.deselect_all()\n",
    "\n",
    "# 选择小雷老师 和 小凯老师\n",
    "select.select_by_visible_text(\"小雷老师\")\n",
    "select.select_by_visible_text(\"小凯老师\")"
   ],
   "metadata": {
    "collapsed": false,
    "pycharm": {
     "name": "#%%\n"
    }
   }
  }
 ],
 "metadata": {
  "kernelspec": {
   "display_name": "Python 3",
   "language": "python",
   "name": "python3"
  },
  "language_info": {
   "codemirror_mode": {
    "name": "ipython",
    "version": 2
   },
   "file_extension": ".py",
   "mimetype": "text/x-python",
   "name": "python",
   "nbconvert_exporter": "python",
   "pygments_lexer": "ipython2",
   "version": "2.7.6"
  }
 },
 "nbformat": 4,
 "nbformat_minor": 0
}