{
 "cells": [
  {
   "cell_type": "markdown",
   "source": [
    "# 选择框操作\n",
    "[练习网站](https://cdn2.byhy.net/files/selenium/test2.html)\n",
    ">在网页的开发中有多种类的选择框，圆形为radio选择框，方形为checkbox选择框，还有select框，单选框和多选框等等"
   ],
   "metadata": {
    "collapsed": false,
    "pycharm": {
     "name": "#%% md\n"
    }
   }
  },
  {
   "cell_type": "code",
   "execution_count": 1,
   "outputs": [],
   "source": [
    "from selenium import webdriver\n",
    "from selenium.webdriver.common.by import By\n",
    "\n",
    "wd = webdriver.Chrome(executable_path=r'D:\\chromedriver_win32\\chromedriver.exe')\n",
    "wd.implicitly_wait(5)\n",
    "wd.get('https://cdn2.byhy.net/files/selenium/test2.html')"
   ],
   "metadata": {
    "collapsed": false,
    "pycharm": {
     "name": "#%%\n"
    }
   }
  },
  {
   "cell_type": "markdown",
   "source": [],
   "metadata": {
    "collapsed": false,
    "pycharm": {
     "name": "#%% md\n"
    }
   }
  },
  {
   "cell_type": "code",
   "execution_count": 3,
   "outputs": [
    {
     "name": "stdout",
     "output_type": "stream",
     "text": [
      "小凯老师\n"
     ]
    }
   ],
   "source": [
    "# 先把 已经选中的选项全部点击一下\n",
    "elements = wd.find_elements(By.CSS_SELECTOR,\n",
    "  '#s_checkbox input[checked=\"checked\"]')\n",
    "\n",
    "for element in elements:\n",
    "    print(element.get_attribute('value'))\n",
    "    element.click()\n",
    "\n",
    "# 再点击 小雷老师\n",
    "wd.find_element(By.CSS_SELECTOR,\n",
    "  \"#s_checkbox input[value='小雷老师']\").click()"
   ],
   "metadata": {
    "collapsed": false,
    "pycharm": {
     "name": "#%%\n"
    }
   }
  },
  {
   "cell_type": "code",
   "execution_count": null,
   "outputs": [],
   "source": [],
   "metadata": {
    "collapsed": false,
    "pycharm": {
     "name": "#%%\n"
    }
   }
  }
 ],
 "metadata": {
  "kernelspec": {
   "display_name": "Python 3",
   "language": "python",
   "name": "python3"
  },
  "language_info": {
   "codemirror_mode": {
    "name": "ipython",
    "version": 2
   },
   "file_extension": ".py",
   "mimetype": "text/x-python",
   "name": "python",
   "nbconvert_exporter": "python",
   "pygments_lexer": "ipython2",
   "version": "2.7.6"
  }
 },
 "nbformat": 4,
 "nbformat_minor": 0
}