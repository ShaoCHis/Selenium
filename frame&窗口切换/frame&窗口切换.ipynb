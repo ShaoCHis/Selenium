{
 "cells": [
  {
   "cell_type": "markdown",
   "metadata": {
    "collapsed": true,
    "pycharm": {
     "name": "#%% md\n"
    }
   },
   "source": [
    "# Frame切换\n",
    "[练习网站](https://cdn2.byhy.net/files/selenium/sample2.html)\n",
    "\n",
    ">在进行网页的操作时，我们会发现在网页中经常存在iframe元素或者frame元素，frame元素或iframe元素为HTML页面中的内嵌HTML页面\n",
    "> 在WebDriver中我们拿到的内省页面不包括其内嵌的iframe页面，所以我们需要操作被嵌入的HTML文档时，需要进行操作范围的切换，以达到操作内嵌HTML页面的目的\n",
    "\n",
    "切换方式：\n",
    "使用WebDriver对象的switch_to属性，例如：\n",
    ">wd.switch_to_frame(frame_reference);其中frame_reference可以是frame元素的属性name或者ID\n",
    ">也可以填写frame所对应的WebElement对象；我们可以根据frame的元素位置或者属性特性，使用find系列的方法，选择该元素，得到对应的web Element对象；\n",
    ">wd.switch_to_frame(wd.find_element(By.TAG_NAME,'iframe'))然后就可以进行后续操作frame里面的元素了\n",
    "\n",
    "在进行切换之后，我们后续的选择和操作界面元素就是在这个frame里面进行的，这时候，我们需要切换回主HTML里面的元素也需要进行操作范围的切换：\n",
    ">wd.switch_to.default_content()\n",
    "\n"
   ]
  },
  {
   "cell_type": "code",
   "execution_count": null,
   "outputs": [],
   "source": [
    "from selenium import webdriver\n",
    "from selenium.webdriver.common.by import By\n",
    "\n",
    "wd = webdriver.Chrome(executable_path=r'D:\\chromedriver_win32\\chromedriver.exe')\n",
    "\n",
    "wd.get('https://cdn2.byhy.net/files/selenium/sample2.html')\n",
    "\n",
    "\n",
    "# 先根据name属性值 'innerFrame'，切换到iframe中\n",
    "wd.switch_to.frame('innerFrame')\n",
    "\n",
    "# 根据 class name 选择元素，返回的是 一个列表\n",
    "elements = wd.find_elements(By.CLASS_NAME, 'plant')\n",
    "\n",
    "for element in elements:\n",
    "    print(element.text)\n",
    "\n",
    "# 切换回 最外部的 HTML 中\n",
    "wd.switch_to.default_content()\n",
    "\n",
    "# 然后再 选择操作 外部的 HTML 中 的元素\n",
    "wd.find_element_by_id('outerbutton').click()"
   ],
   "metadata": {
    "collapsed": false,
    "pycharm": {
     "name": "#%%\n"
    }
   }
  },
  {
   "cell_type": "code",
   "execution_count": null,
   "outputs": [],
   "source": [
    "wd.quit()"
   ],
   "metadata": {
    "collapsed": false,
    "pycharm": {
     "name": "#%%\n"
    }
   }
  },
  {
   "cell_type": "markdown",
   "source": [
    "### 切换到新的窗口\n",
    "[练习网站](https://cdn2.byhy.net/files/selenium/sample3.html)\n",
    ">在网页上进行操作的时候，我们经常遇到点击一个链接或者按钮就会打开一个新的窗口\n",
    "\n",
    "例如下方的例子：在点击按钮后将打开一个新的窗口到bing网址，在Selenium中在新窗口里面打开一个新的网址后，现有的WebDriver还是对应的老窗口，无法操纵新窗口中的任何元素，所以这里需要进行窗口的切换：\n",
    ">wd.switch_to_window(handle)"
   ],
   "metadata": {
    "collapsed": false,
    "pycharm": {
     "name": "#%% md\n"
    }
   }
  },
  {
   "cell_type": "code",
   "execution_count": null,
   "outputs": [],
   "source": [
    "from selenium import webdriver\n",
    "from selenium.webdriver.common.by import By\n",
    "\n",
    "wd = webdriver.Chrome(executable_path=r'D:\\chromedriver_win32\\chromedriver.exe')\n",
    "wd.implicitly_wait(10)\n",
    "\n",
    "wd.get('https://cdn2.byhy.net/files/selenium/sample3.html')\n",
    "\n",
    "# 点击打开新窗口的链接\n",
    "link = wd.find_element(By.TAG_NAME, \"a\")\n",
    "link.click()\n",
    "\n",
    "# wd.title属性是当前窗口的标题栏 文本\n",
    "print(wd.title)"
   ],
   "metadata": {
    "collapsed": false,
    "pycharm": {
     "name": "#%%\n"
    }
   }
  },
  {
   "cell_type": "markdown",
   "source": [
    "在WebDriver对象中有window_handles属性，这是一个列表对象，里面包括了当前浏览器里面所有的窗口句柄（句柄：理解为对应网页窗口的一个ID）\n",
    "那么我们就可以使用窗口的句柄去切换WebDriver所操作的窗口"
   ],
   "metadata": {
    "collapsed": false,
    "pycharm": {
     "name": "#%% md\n"
    }
   }
  },
  {
   "cell_type": "code",
   "execution_count": null,
   "outputs": [],
   "source": [
    "\"\"\"\n",
    "我们用wd.window_handles获取到浏览器里面的所有句柄对象，并且调用wd.switch_to_window(handle)方法切入到每个窗口\n",
    "然后调用该窗口对象的属性，判断是否为我们需要操作的窗口，如果是，就跳出循环\n",
    "\"\"\"\n",
    "for handle in wd.window_handles:\n",
    "    # 先切换到该窗口\n",
    "    wd.switch_to.window(handle)\n",
    "    # 得到该窗口的标题栏字符串，判断是不是我们要操作的那个窗口\n",
    "    if 'Bing' in wd.title:\n",
    "        # 如果是，那么这时候WebDriver对象就是对应的该该窗口，正好，跳出循环，\n",
    "        break"
   ],
   "metadata": {
    "collapsed": false,
    "pycharm": {
     "name": "#%%\n"
    }
   }
  },
  {
   "cell_type": "markdown",
   "source": [
    "同样的，如果我们操作完成需要回到原来的主窗口，同理我们可以使用循环来进行判断\n",
    "但同样，我们可以暂存一下主窗口的句柄，后直接切回即可"
   ],
   "metadata": {
    "collapsed": false,
    "pycharm": {
     "name": "#%% md\n"
    }
   }
  },
  {
   "cell_type": "code",
   "execution_count": null,
   "outputs": [],
   "source": [
    "# mainWindow变量保存当前窗口的句柄\n",
    "mainWindow = wd.current_window_handle\n",
    "#通过前面保存的老窗口的句柄，自己切换到老窗口\n",
    "wd.switch_to.window(mainWindow)"
   ],
   "metadata": {
    "collapsed": false,
    "pycharm": {
     "name": "#%%\n"
    }
   }
  }
 ],
 "metadata": {
  "kernelspec": {
   "display_name": "Python 3",
   "language": "python",
   "name": "python3"
  },
  "language_info": {
   "codemirror_mode": {
    "name": "ipython",
    "version": 2
   },
   "file_extension": ".py",
   "mimetype": "text/x-python",
   "name": "python",
   "nbconvert_exporter": "python",
   "pygments_lexer": "ipython2",
   "version": "2.7.6"
  }
 },
 "nbformat": 4,
 "nbformat_minor": 0
}