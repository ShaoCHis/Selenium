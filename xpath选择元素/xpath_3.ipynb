{
 "cells": [
  {
   "cell_type": "markdown",
   "metadata": {
    "collapsed": true,
    "pycharm": {
     "name": "#%% md\n"
    }
   },
   "source": [
    "### 按次序选择\n",
    ">xpath也可以根据次序选择元素，语法比css更简洁，直接在方括号中使用数字表示次序\n",
    "\n",
    "#### 某类型的第几个子元素\n",
    "比如：要选择 p 类型第二个的子元素，就是：\n",
    ">//p[2]\n",
    "\n",
    "注意：选择的是 *p类型的第二个元素*（p类型的第二个） ，不是 第二个子元素并且是p类型\n",
    "\n",
    "再比如：要选取父元素为div中的p类型的第二个元素\n",
    ">//div/p[2]\n",
    "\n",
    "同时，也可以选择倒数第几个子元素\n",
    "比如：\n",
    "- 选取p类型倒数第一个：//p[last()]\n",
    "- 选取p类型倒数第二个：//p[last()-1]\n",
    "- 选择父元素为div中p类型倒数第二个：//div/p[last()-2]\n",
    "\n",
    "\n",
    "#### 范围选择\n",
    ">xpath还可以选择子元素的次序范围\n",
    "比如：\n",
    "- 选取option类型第1到2个元素：//option[position()<=2] 或者 //option[position()<3]\n",
    "- 选择class属性为multi_choice的前三个元素：//*[@class='multi_choice']/*[position()<=3]\n",
    "- 选择class属性为multi_choice的最后三个元素：//*[@class='multi_choice']/*[position>=last()-2]"
   ]
  },
  {
   "cell_type": "code",
   "execution_count": null,
   "outputs": [],
   "source": [],
   "metadata": {
    "collapsed": false,
    "pycharm": {
     "name": "#%%\n"
    }
   }
  }
 ],
 "metadata": {
  "kernelspec": {
   "display_name": "Python 3",
   "language": "python",
   "name": "python3"
  },
  "language_info": {
   "codemirror_mode": {
    "name": "ipython",
    "version": 2
   },
   "file_extension": ".py",
   "mimetype": "text/x-python",
   "name": "python",
   "nbconvert_exporter": "python",
   "pygments_lexer": "ipython2",
   "version": "2.7.6"
  }
 },
 "nbformat": 4,
 "nbformat_minor": 0
}