{
 "cells": [
  {
   "cell_type": "markdown",
   "metadata": {
    "collapsed": true,
    "pycharm": {
     "name": "#%% md\n"
    }
   },
   "source": [
    "# xpath选择元素\n",
    ">XPath(XML Path Language)是由国际标准化组织W3C指定的，用来在XML和HTML文档中选择节点的语法\n",
    "> 目前主流浏览器（chrome、firefox、edge、safari）都支持XPath语法，xpath有1和2两个版本，目前浏览器支持的时xpath 1 的语法\n",
    "\n",
    "- 有些场景用css选择web元素很麻烦，而xpath却比较方便\n",
    "- 另外xpath 还有其他领域会使用到，例如：爬虫框架 Scrapy，手机App框架Appium\n",
    "\n",
    "[练习网站](https://cdn2.byhy.net/files/selenium/test1.html)\n",
    "\n",
    ">要验证XPath语法是否能成功选择元素，也可以像验证CSS语法那样，按组合键Ctrl+F，就会出现搜索框\n",
    "\n",
    "xpath语法中，整个文档的根节点用'/'表示，如果我们像选择的是根节点下面的html节点，则可以在搜索框中输入/html\n",
    "如果输入下面的表达式:/html/body/div则表示选择html下面的body下面的div元素\n",
    "\n",
    "### 绝对路径选择\n",
    "从上面的例子可以看出，如果Xpath路径是以正斜杠(/)开始，就表示从根节点开始，即某元素的绝对路径"
   ]
  },
  {
   "cell_type": "code",
   "execution_count": null,
   "outputs": [],
   "source": [
    "from selenium import webdriver\n",
    "from selenium.webdriver.common.by import By\n",
    "\n",
    "wd = webdriver.Chrome(executable_path=r'D:\\chromedriver_win32\\chromedriver.exe')\n",
    "wd.implicitly_wait(10)\n",
    "wd.get('https://cdn2.byhy.net/files/selenium/test1.html')\n",
    "# 绝对路径选择\n",
    "elements = wd.find_element_by_xpath('/html/body/div')"
   ],
   "metadata": {
    "collapsed": false,
    "pycharm": {
     "name": "#%%\n"
    }
   }
  },
  {
   "cell_type": "markdown",
   "source": [
    "### 相对路径的选择\n",
    "- //div表示不管什么位置的div\n",
    "- //div//p表示不管什么位置的div中的p节点\n",
    "- //div/p表示不管什么位置的div的直接子结点p\n",
    "- //div/* *表示通配符，即找到不管什么位置的div的所有直接子结点"
   ],
   "metadata": {
    "collapsed": false,
    "pycharm": {
     "name": "#%% md\n"
    }
   }
  },
  {
   "cell_type": "code",
   "execution_count": null,
   "outputs": [],
   "source": [],
   "metadata": {
    "collapsed": false,
    "pycharm": {
     "name": "#%%\n"
    }
   }
  }
 ],
 "metadata": {
  "kernelspec": {
   "display_name": "Python 3",
   "language": "python",
   "name": "python3"
  },
  "language_info": {
   "codemirror_mode": {
    "name": "ipython",
    "version": 2
   },
   "file_extension": ".py",
   "mimetype": "text/x-python",
   "name": "python",
   "nbconvert_exporter": "python",
   "pygments_lexer": "ipython2",
   "version": "2.7.6"
  }
 },
 "nbformat": 4,
 "nbformat_minor": 0
}