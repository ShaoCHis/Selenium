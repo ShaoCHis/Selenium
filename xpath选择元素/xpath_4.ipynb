{
 "cells": [
  {
   "cell_type": "markdown",
   "metadata": {
    "collapsed": true,
    "pycharm": {
     "name": "#%% md\n"
    }
   },
   "source": [
    "### 组选择和兄弟节点\n",
    "\n",
    "#### 组选择\n",
    ">css有组选择，可以同时使用多个表达式，多个表达式选择的结果都是要选择的元素\n",
    "\n",
    "xpath也有组选择，使用竖线隔开多个表达式：|\n",
    "比如：要选所有的option元素和所有的h4元素，可以使用：\n",
    ">//option|//h4\n",
    "等同于css选择器：\n",
    "> option/h4\n",
    "\n",
    "#### 选择父节点\n",
    ">xpath可以选择父节点，css不能\n",
    "\n",
    "某个节点的父节点用 */..*表示\n",
    "比如，要选择id为china的节点的父节点，可以这样写：\n",
    ">//*[@id='china']/..\n",
    "\n",
    "当某个元素没有特征可以直接选择，但是它有子节点有特征，就可以采用这种方法，先选择子结点再指向父节点\n",
    "同理，还可以向上寻找父节点：//*[@id='china']/../../..\n",
    "\n",
    "#### 兄弟节点\n",
    ">xpath选择后续兄弟节点，用语法：*following-sibling::*\n",
    "\n",
    "比如，要选择 class 为single_choice的元素的所有后续兄弟节点： //*[@class='single_choice']/following-sibling::*   等同于css选择器： .single_choice ~ *\n",
    "如果要选择后续节点中的div节点：   //*[@class='single_choice']/following-sibling::div  等同于css选择器：  .single_choice ~ div\n",
    "\n",
    ">xpath还可以选择前面的兄弟节点，用语法： *preceding-sibling::*，css不能选择前序兄弟节点\n",
    "\n",
    "比如，要选择class为single_choice的元素的所有前序兄弟节点：  //*[@class='single_choice']/preceding-sibling::*"
   ]
  },
  {
   "cell_type": "code",
   "execution_count": null,
   "outputs": [],
   "source": [
    "# selenium使用时注意点\n",
    "\n",
    "from selenium import webdriver\n",
    "from selenium.webdriver.common.by import By\n",
    "\n",
    "wd = webdriver.Chrome(executable_path=r'D:\\chromedriver_win32\\chromedriver.exe')\n",
    "wd.implicitly_wait(5)\n",
    "wd.get('https://cdn2.byhy.net/files/selenium/test2.html')"
   ],
   "metadata": {
    "collapsed": false,
    "pycharm": {
     "name": "#%%\n"
    }
   }
  },
  {
   "cell_type": "code",
   "execution_count": null,
   "outputs": [],
   "source": [
    "china = wd.find_element_by_id('china')\n",
    "# 注意这里如果需要查找china内部的p元素，需要在xpath路径//p前加上一个.；即正确xpath表达式为.//p\n",
    "# 如果直接使用//p，那么还是默认为整个页面中查找\n",
    "elements = china.find_elements_by_xpath('.//p')"
   ],
   "metadata": {
    "collapsed": false,
    "pycharm": {
     "name": "#%%\n"
    }
   }
  }
 ],
 "metadata": {
  "kernelspec": {
   "display_name": "Python 3",
   "language": "python",
   "name": "python3"
  },
  "language_info": {
   "codemirror_mode": {
    "name": "ipython",
    "version": 2
   },
   "file_extension": ".py",
   "mimetype": "text/x-python",
   "name": "python",
   "nbconvert_exporter": "python",
   "pygments_lexer": "ipython2",
   "version": "2.7.6"
  }
 },
 "nbformat": 4,
 "nbformat_minor": 0
}