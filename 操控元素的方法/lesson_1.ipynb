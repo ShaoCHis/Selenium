{
 "cells": [
  {
   "cell_type": "markdown",
   "metadata": {
    "collapsed": true,
    "pycharm": {
     "name": "#%% md\n"
    }
   },
   "source": [
    "# 操控元素的方法\n",
    "选择到元素之后，我们会得到元素返回的WebElement对象，通过这个对象我们就可以操控元素了\n",
    "操控元素通常包括：\n",
    "- 点击元素\n",
    "- 在元素中输入字符串，通常是对输入框这样的元素\n",
    "- 获取元素包含的信息，比如文本内容，元素的属性"
   ]
  },
  {
   "cell_type": "code",
   "execution_count": null,
   "outputs": [],
   "source": [
    "from selenium import webdriver\n",
    "from selenium.webdriver.chrome.service import Service\n",
    "from selenium.common.exceptions import NoSuchElementException\n",
    "\n",
    "# 创建 WebDriver 对象，指明使用chrome浏览器驱动\n",
    "wd = webdriver.Chrome(executable_path=r'D:\\chromedriver_win32\\chromedriver.exe')\n",
    "\n",
    "# 调用WebDriver 对象的get方法 可以让浏览器打开指定网址\n",
    "wd.get('https://www.byhy.net/_files/stock1.html')"
   ],
   "metadata": {
    "collapsed": false,
    "pycharm": {
     "name": "#%%\n"
    }
   }
  },
  {
   "cell_type": "markdown",
   "source": [
    "### 点击元素\n",
    ">点击元素就是调用元素WebElement对象的click方法\n",
    "\n",
    "当我们调用WebElement对象的click方法去点击元素的时候，浏览器接收到自动化命令，点击的是该元素的中心点的位置\n",
    "这样就存在一些特殊情况，即点击中间是无反应必须点击左侧或者右侧，这种情况需要找到需要点击的正确元素以进行点击操作执行"
   ],
   "metadata": {
    "collapsed": false,
    "pycharm": {
     "name": "#%% md\n"
    }
   }
  },
  {
   "cell_type": "code",
   "execution_count": null,
   "outputs": [],
   "source": [
    "\"\"\"\n",
    "无合适举例\n",
    "\"\"\""
   ],
   "metadata": {
    "collapsed": false,
    "pycharm": {
     "name": "#%%\n"
    }
   }
  },
  {
   "cell_type": "markdown",
   "source": [
    "### 输入框\n",
    ">输入字符串即是调用元素WebElement对象的 send_key() 方法\n",
    "> 如果我们要把输入框中已有的内容进行清除，可以使用WebElement的clear方法"
   ],
   "metadata": {
    "collapsed": false,
    "pycharm": {
     "name": "#%% md\n"
    }
   }
  },
  {
   "cell_type": "code",
   "execution_count": null,
   "outputs": [],
   "source": [
    "element = wd.find_element_by_id('input')\n",
    "element.clear()\n",
    "element.send_key('清楚旧内容后输入的新内容')"
   ],
   "metadata": {
    "collapsed": false,
    "pycharm": {
     "name": "#%%\n"
    }
   }
  },
  {
   "cell_type": "markdown",
   "source": [
    "### 获取元素的信息\n",
    "- 获取元素的文本信息：item.text\n",
    "- 获取元素的属性信息：item.get_attribute('attribute_name')\n",
    "- 获取整个元素对应的HTML：\n",
    "- -要获取整个元素对应的HTML文本内容，可以使用 element.get_attribute('outerHTML')\n",
    "- -如果只是想获取某个元素内部的HTML文本内容，可以使用 element.get_attribute('innerHTML')\n",
    "- 获取输入框里面的文字：对于input输入框的元素，要获取里面的输入文本，用text属性是不行的，这时可以使用 element.get_attribute('value')\n",
    "\n",
    ">通过WebElement对象的text属性，可以获取元素展示在界面上的文本内容\n",
    "> >但是有时候，元素的文本内容没有展示在界面上，或者没有完全展示在界面上，这时，用WebElement对象的text属性获取文本内容，就会有问题\n",
    "> 出现这种情况可以尝试使用 element.get_attribute('innerText')，或者 element.get_attribute('textContent')"
   ],
   "metadata": {
    "collapsed": false,
    "pycharm": {
     "name": "#%% md\n"
    }
   }
  },
  {
   "cell_type": "code",
   "execution_count": null,
   "outputs": [],
   "source": [],
   "metadata": {
    "collapsed": false,
    "pycharm": {
     "name": "#%%\n"
    }
   }
  }
 ],
 "metadata": {
  "kernelspec": {
   "display_name": "Python 3",
   "language": "python",
   "name": "python3"
  },
  "language_info": {
   "codemirror_mode": {
    "name": "ipython",
    "version": 2
   },
   "file_extension": ".py",
   "mimetype": "text/x-python",
   "name": "python",
   "nbconvert_exporter": "python",
   "pygments_lexer": "ipython2",
   "version": "2.7.6"
  }
 },
 "nbformat": 4,
 "nbformat_minor": 0
}