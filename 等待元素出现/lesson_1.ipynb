{
 "cells": [
  {
   "cell_type": "markdown",
   "metadata": {
    "collapsed": true,
    "pycharm": {
     "name": "#%% md\n"
    }
   },
   "source": [
    "# 等待元素出现\n",
    ">由于脚本的运行速度大于网站的响应速度，导致脚本的运行大于网站会出现element找不到的情况出现抛出异常\n",
    "\n",
    "等待元素为了解决脚本的运行速度与网站响应速度之间的差距，以解决意外的异常出现情况"
   ]
  },
  {
   "cell_type": "code",
   "execution_count": null,
   "outputs": [],
   "source": [
    "import time\n",
    "# 等待一秒\n",
    "# 显示等待\n",
    "time.sleep(1)"
   ],
   "metadata": {
    "collapsed": false,
    "pycharm": {
     "name": "#%%\n"
    }
   }
  },
  {
   "cell_type": "code",
   "execution_count": null,
   "outputs": [],
   "source": [
    "\"\"\"\n",
    "Selenium提供了一个更合理的解决方案：\n",
    "当发现元素没有找到的时候，并不立即返回找不到元素的错误，而是周期性（每隔半秒钟）重新寻找该元素，直到该元素找到\n",
    "或者超出指定最大等待时长，这时才抛出异常（如果是 find_elements 之类的方法，则是返回空列表）\n",
    "\"\"\"\n",
    "\n",
    "\"\"\"\n",
    "Selenium的WebDriver对象有个方法叫 implicitly_wait ,可以称之为隐式等待，或者全局等待\n",
    "该方法接受一个参数，用来指定最大等待时长。\n",
    "\n",
    "如果我们加入如下代码：\n",
    "wd.implicitly_wait(10)\n",
    "\n",
    "那么后续所有的 find_element 或者 find_elements 之类的方法调用都会采用上面的策略：\n",
    "如果找不到该元素，每隔半秒钟再去界面上查看一次，直到找到该元素，或者过了10s最大时长\n",
    "\"\"\""
   ],
   "metadata": {
    "collapsed": false,
    "pycharm": {
     "name": "#%%\n"
    }
   }
  },
  {
   "cell_type": "markdown",
   "source": [
    "这样我们就可以得到我们最终的代码"
   ],
   "metadata": {
    "collapsed": false
   }
  },
  {
   "cell_type": "code",
   "execution_count": null,
   "outputs": [],
   "source": [
    "from selenium import webdriver\n",
    "from selenium.webdriver.chrome.service import Service\n",
    "from selenium.common.exceptions import NoSuchElementException\n",
    "\n",
    "# 创建 WebDriver 对象，指明使用chrome浏览器驱动\n",
    "wd = webdriver.Chrome(executable_path=r'D:\\chromedriver_win32\\chromedriver.exe')\n",
    "wd.implicitly_wait(10)\n",
    "\n",
    "# 调用WebDriver 对象的get方法 可以让浏览器打开指定网址\n",
    "wd.get('https://www.byhy.net/_files/stock1.html')\n",
    "# 通过获取的webElement控件，就可以通过driver对页面上的控件进行操作\n",
    "# 比如输入字符：\n",
    "element = wd.find_element_by_id('kw')\n",
    "element.clear()\n",
    "element.send_keys('通讯')\n",
    "# 获取按钮控件，模拟点击操作\n",
    "button = wd.find_element_by_id('go')\n",
    "button.click()\n",
    "# 返回页面 ID为1 的元素\n",
    "element = wd.find_element_by_id('1')\n",
    "print(element.text)"
   ],
   "metadata": {
    "collapsed": false,
    "pycharm": {
     "name": "#%%\n"
    }
   }
  }
 ],
 "metadata": {
  "kernelspec": {
   "display_name": "Python 3",
   "language": "python",
   "name": "python3"
  },
  "language_info": {
   "codemirror_mode": {
    "name": "ipython",
    "version": 2
   },
   "file_extension": ".py",
   "mimetype": "text/x-python",
   "name": "python",
   "nbconvert_exporter": "python",
   "pygments_lexer": "ipython2",
   "version": "2.7.6"
  }
 },
 "nbformat": 4,
 "nbformat_minor": 0
}