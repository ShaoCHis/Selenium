{
 "cells": [
  {
   "cell_type": "markdown",
   "metadata": {
    "collapsed": true,
    "pycharm": {
     "name": "#%% md\n"
    }
   },
   "source": [
    "# selenium自动化常用的一些技巧\n",
    ">在实际的使用中，我们使用的操作不仅仅是鼠标的点击、输入操作等，我们还可能涉及到更多的操作，例如：鼠标右键的点击、双击、移动鼠标到某个元素、鼠标拖拽等。\n",
    "\n",
    "这些操作我们可以通过Selenium提供的*ActionsChains*类来实现"
   ]
  },
  {
   "cell_type": "markdown",
   "source": [
    "我们以移动鼠标到某个元素为例：\n",
    "百度首页的右上角，有个更多产品选项，在鼠标移动其上面之后，就会弹出下面的 糯米、音乐、图片等图标，使用ActionChains来模拟鼠标移动 操作的代码如下："
   ],
   "metadata": {
    "collapsed": false,
    "pycharm": {
     "name": "#%% md\n"
    }
   }
  },
  {
   "cell_type": "code",
   "execution_count": null,
   "outputs": [],
   "source": [
    "# 可以查看action_chains中提供的接口\n",
    "from selenium import webdriver\n",
    "from selenium.webdriver.common.by import By\n",
    "\n",
    "driver = webdriver.Chrome()\n",
    "driver.implicitly_wait(5)\n",
    "\n",
    "driver.get('https://www.baidu.com/')\n",
    "\n",
    "from selenium.webdriver.common.action_chains import ActionChains\n",
    "\n",
    "ac = ActionChains(driver)\n",
    "\n",
    "# 鼠标移动到 元素上\n",
    "# move的参数为：所需要移动到的元素对象上\n",
    "ac.move_to_element(\n",
    "    driver.find_element(By.CSS_SELECTOR, '[name=\"tj_briicon\"]')\n",
    ").perform()"
   ],
   "metadata": {
    "collapsed": false,
    "pycharm": {
     "name": "#%%\n"
    }
   }
  },
  {
   "cell_type": "markdown",
   "source": [
    "### 直接执行javascript代码\n",
    ">我们可以直接让浏览器运行一段javascript代码，并且得到返回值，如下："
   ],
   "metadata": {
    "collapsed": false,
    "pycharm": {
     "name": "#%% md\n"
    }
   }
  },
  {
   "cell_type": "code",
   "execution_count": null,
   "outputs": [],
   "source": [
    "# 直接执行 javascript，里面可以直接用return返回我们需要的数据\n",
    "nextPageButtonDisabled = driver.execute_script(\n",
    "    '''\n",
    "    ele = document.querySelector('.soupager > button:last-of-type');\n",
    "    return ele.getAttribute('disabled')\n",
    "    ''')\n",
    "\n",
    "# 返回的数据转化为Python中的数据对象进行后续处理\n",
    "if nextPageButtonDisabled == 'disabled': # 是最后一页\n",
    "    return True\n",
    "else: # 不是最后一页\n",
    "    return False"
   ],
   "metadata": {
    "collapsed": false,
    "pycharm": {
     "name": "#%%\n"
    }
   }
  },
  {
   "cell_type": "markdown",
   "source": [
    "### 冻结界面\n",
    ">在部分前端页面的实现中光标的移动会导致HTML源码的变化，我们需要对页面进行冻结操作，以便我们的查看与使用\n",
    "\n",
    "在开发者工具栏console里面执行如下js代码\n",
    "```javascript\n",
    "setTimeout(function(){debugger}, 5000)\n",
    "```\n",
    "这句代码表示在5000毫秒之后，执行debugger命令，执行该命令会让浏览器进行debug状态；debug状态有个特性，界面会被冻住，不管怎么点击界面都不会触发事件\n",
    "所以，我们可以在输入上面代码后并回车执行后，将鼠标放置于界面上，在5s后界面被冻住后，我们就可以查看我们需要的动态显示的内容的属性了"
   ],
   "metadata": {
    "collapsed": false,
    "pycharm": {
     "name": "#%% md\n"
    }
   }
  },
  {
   "cell_type": "markdown",
   "source": [
    "### 弹出对话框\n",
    "[练习网站](https://cdn2.byhy.net/files/selenium/test4.html)\n",
    "\n",
    "#### alert类型对话框\n",
    ">alter对话框仅有一个确认按钮，在alter弹出后我们需要对alter对话框的文本信息进行确认，然后点击按钮\n",
    "\n",
    "```python\n",
    "# 点击确认按钮；如果不点击，页面中的其他元素是不能操作的\n",
    "driver.switch_to.alert.accept()\n",
    "# 获取alert对话框中的文本信息\n",
    "driver.switch_to.alert.text\n",
    "```\n",
    "```python\n",
    "from selenium import webdriver\n",
    "from selenium.webdriver.common.by import By\n",
    "\n",
    "driver = webdriver.Chrome()\n",
    "driver.implicitly_wait(5)\n",
    "driver.get('https://cdn2.byhy.net/files/selenium/test4.html')\n",
    "\n",
    "\n",
    "# --- alert ---\n",
    "driver.find_element(By.ID, 'b1').click()\n",
    "\n",
    "# 打印 弹出框 提示信息\n",
    "print(driver.switch_to.alert.text)\n",
    "\n",
    "# 点击 OK 按钮\n",
    "driver.switch_to.alert.accept()\n",
    "```\n",
    "\n",
    "#### confirm对话框\n",
    ">confirm弹出框，主要是让用户确认是否要进行某个操作；\n",
    "> 比如：当管理员在网站上选择删除某个账号时，就可能弹出Confirm弹出框，要求确认是否确定要删除\n",
    "> Confirm弹出框 有两个选择供用户选择，分别是OK、Cancel，分别代表确定和取消操作\n",
    "\n",
    "```python\n",
    "# 模拟用户点击确认OK操作\n",
    "driver.switch_to.alert.accept()\n",
    "# 模拟用户点击取消Cancel操作\n",
    "driver.switch_to.alert.dismiss()\n",
    "```\n",
    "```python\n",
    "from selenium import webdriver\n",
    "from selenium.webdriver.common.by import By\n",
    "driver = webdriver.Chrome()\n",
    "driver.implicitly_wait(5)\n",
    "driver.get('https://cdn2.byhy.net/files/selenium/test4.html')\n",
    "# --- confirm ---\n",
    "driver.find_element(By.ID, 'b2').click()\n",
    "# 打印 弹出框 提示信息\n",
    "print(driver.switch_to.alert.text)\n",
    "# 点击 OK 按钮\n",
    "driver.switch_to.alert.accept()\n",
    "driver.find_element(By.ID, 'b2').click()\n",
    "# 点击 取消 按钮\n",
    "driver.switch_to.alert.dismiss()\n",
    "```\n",
    "\n",
    "#### prompt对话框\n",
    ">出现prompt对话框是需要用户输入一些信息，提交上去\n",
    "> 比如：当管理员在网站上选择给某个账号延期时，就可能会弹出Prompt弹出框，要求输入延期多长时间\n",
    "> driver.switch_to.alert.send_keys()\n",
    "\n",
    "```python\n",
    "from selenium import webdriver\n",
    "from selenium.webdriver.common.by import By\n",
    "\n",
    "driver = webdriver.Chrome()\n",
    "driver.implicitly_wait(5)\n",
    "driver.get('https://cdn2.byhy.net/files/selenium/test4.html')\n",
    "# --- prompt ---\n",
    "driver.find_element(By.ID, 'b3').click()\n",
    "# 获取 alert 对象\n",
    "alert = driver.switch_to.alert\n",
    "# 打印 弹出框 提示信息\n",
    "print(alert.text)\n",
    "# 输入信息，并且点击 OK 按钮 提交\n",
    "alert.send_keys('web自动化 - selenium')\n",
    "alert.accept()\n",
    "# 点击 Cancel 按钮 取消\n",
    "driver.find_element(By.ID, 'b3').click()\n",
    "alert = driver.switch_to.alert\n",
    "alert.dismiss()\n",
    "```"
   ],
   "metadata": {
    "collapsed": false,
    "pycharm": {
     "name": "#%% md\n"
    }
   }
  }
 ],
 "metadata": {
  "kernelspec": {
   "display_name": "Python 3",
   "language": "python",
   "name": "python3"
  },
  "language_info": {
   "codemirror_mode": {
    "name": "ipython",
    "version": 2
   },
   "file_extension": ".py",
   "mimetype": "text/x-python",
   "name": "python",
   "nbconvert_exporter": "python",
   "pygments_lexer": "ipython2",
   "version": "2.7.6"
  }
 },
 "nbformat": 4,
 "nbformat_minor": 0
}