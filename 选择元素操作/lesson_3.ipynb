{
 "cells": [
  {
   "cell_type": "markdown",
   "metadata": {
    "collapsed": true,
    "pycharm": {
     "name": "#%% md\n"
    }
   },
   "source": [
    "# 通过webElement对象来寻找元素\n",
    ">>*WebDriver对象查找元素的范围为整个页面*\n",
    ">>*WebElement对象选择元素的范围为该对象的内部*\n",
    "\n",
    "[练习网站](https://cdn2.byhy.net/files/selenium/sample1.html)"
   ]
  },
  {
   "cell_type": "code",
   "execution_count": 1,
   "outputs": [],
   "source": [
    "from selenium import webdriver\n",
    "from selenium.webdriver.chrome.service import Service\n",
    "from selenium.common.exceptions import NoSuchElementException\n",
    "\n",
    "# 创建 WebDriver 对象，指明使用chrome浏览器驱动\n",
    "wd = webdriver.Chrome(executable_path=r'D:\\chromedriver_win32\\chromedriver.exe')\n",
    "\n",
    "# 调用WebDriver 对象的get方法 可以让浏览器打开指定网址\n",
    "wd.get('https://cdn2.byhy.net/files/selenium/sample1.html')"
   ],
   "metadata": {
    "collapsed": false,
    "pycharm": {
     "name": "#%%\n"
    }
   }
  },
  {
   "cell_type": "code",
   "execution_count": 3,
   "outputs": [
    {
     "name": "stdout",
     "output_type": "stream",
     "text": [
      "内层11\n",
      "内层12\n",
      "内层21\n"
     ]
    }
   ],
   "source": [
    "# 通过id在整个页面中查找到所需要的元素\n",
    "element = wd.find_element_by_id('container')\n",
    "# 在该元素内部查找所需要的tagName元素\n",
    "\"\"\"\n",
    "与wd.find_elements_by_tag_name范围不同\n",
    "\"\"\"\n",
    "inner_elements = element.find_elements_by_tag_name('span')\n",
    "for item in inner_elements:\n",
    "    print(item.text)"
   ],
   "metadata": {
    "collapsed": false,
    "pycharm": {
     "name": "#%%\n"
    }
   }
  },
  {
   "cell_type": "code",
   "execution_count": null,
   "outputs": [],
   "source": [],
   "metadata": {
    "collapsed": false,
    "pycharm": {
     "name": "#%%\n"
    }
   }
  }
 ],
 "metadata": {
  "kernelspec": {
   "display_name": "Python 3",
   "language": "python",
   "name": "python3"
  },
  "language_info": {
   "codemirror_mode": {
    "name": "ipython",
    "version": 2
   },
   "file_extension": ".py",
   "mimetype": "text/x-python",
   "name": "python",
   "nbconvert_exporter": "python",
   "pygments_lexer": "ipython2",
   "version": "2.7.6"
  }
 },
 "nbformat": 4,
 "nbformat_minor": 0
}