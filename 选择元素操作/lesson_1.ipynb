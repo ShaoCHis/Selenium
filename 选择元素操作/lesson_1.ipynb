{
 "cells": [
  {
   "cell_type": "markdown",
   "source": [
    "# 根据开发者模式中查看html代码找到所要控制的组件的id进行控制\n",
    ">id在HTML网页中，为元素的唯一编号，用来在HTML中标记元素，所以如果元素控件存在id，那么选择id为最简单高效的方式；\n",
    "\n",
    "[练习网站](https://www.byhy.net/_files/stock1.html)"
   ],
   "metadata": {
    "collapsed": false,
    "pycharm": {
     "name": "#%% md\n"
    }
   }
  },
  {
   "cell_type": "code",
   "execution_count": 5,
   "outputs": [],
   "source": [
    "from selenium import webdriver\n",
    "from selenium.webdriver.chrome.service import Service\n",
    "from selenium.common.exceptions import NoSuchElementException\n",
    "\n",
    "# 创建 WebDriver 对象，指明使用chrome浏览器驱动\n",
    "wd = webdriver.Chrome(executable_path=r'D:\\chromedriver_win32\\chromedriver.exe')\n",
    "\n",
    "# 调用WebDriver 对象的get方法 可以让浏览器打开指定网址\n",
    "wd.get('https://www.byhy.net/_files/stock1.html')"
   ],
   "metadata": {
    "collapsed": false,
    "pycharm": {
     "name": "#%%\n"
    }
   }
  },
  {
   "cell_type": "markdown",
   "source": [
    "### 这里使用id查找一个输入框进行文本输入的演示"
   ],
   "metadata": {
    "collapsed": false,
    "pycharm": {
     "name": "#%% md\n"
    }
   }
  },
  {
   "cell_type": "code",
   "execution_count": 12,
   "outputs": [],
   "source": [
    "# 根据id选择元素，返回的就是该元素对应的webElement对象\n",
    "'''\n",
    "这里加入\\n模拟输入后回车操作，若不加入\\n那么不会执行查询操作，加入\\n后可以执行查询操作\n",
    "element.send_keys('通讯\\n')\n",
    "'''\n",
    "# 异常处理，若未找到满足条件的元素，那么会抛出NoSuchElementException异常\n",
    "try:\n",
    "    # 通过获取的webElement控件，就可以通过driver对页面上的控件进行操作\n",
    "    # 比如输入字符：\n",
    "    element = wd.find_element_by_id('kw')\n",
    "    element.clear()\n",
    "    element.send_keys('通讯')\n",
    "    # 获取按钮控件，模拟点击操作\n",
    "    button = wd.find_element_by_id('go')\n",
    "    button.click()\n",
    "except NoSuchElementException:\n",
    "    print(\"没有相应的控件\")"
   ],
   "metadata": {
    "collapsed": false,
    "pycharm": {
     "name": "#%%\n"
    }
   }
  },
  {
   "cell_type": "code",
   "execution_count": 13,
   "outputs": [],
   "source": [
    "wd.quit()"
   ],
   "metadata": {
    "collapsed": false,
    "pycharm": {
     "name": "#%%\n"
    }
   }
  },
  {
   "cell_type": "code",
   "execution_count": null,
   "outputs": [],
   "source": [],
   "metadata": {
    "collapsed": false,
    "pycharm": {
     "name": "#%%\n"
    }
   }
  }
 ],
 "metadata": {
  "kernelspec": {
   "display_name": "Python 3",
   "language": "python",
   "name": "python3"
  },
  "language_info": {
   "codemirror_mode": {
    "name": "ipython",
    "version": 2
   },
   "file_extension": ".py",
   "mimetype": "text/x-python",
   "name": "python",
   "nbconvert_exporter": "python",
   "pygments_lexer": "ipython2",
   "version": "2.7.6"
  }
 },
 "nbformat": 4,
 "nbformat_minor": 0
}