{
 "cells": [
  {
   "cell_type": "markdown",
   "metadata": {
    "collapsed": true,
    "pycharm": {
     "name": "#%% md\n"
    }
   },
   "source": [
    "# 根据标签控件的class属性、tag名来选择元素\n",
    ">标签控件的class和tag属性对应的不一定为同一个，可能存在多个属性\n",
    "\n",
    "[练习网站](https://cdn2.byhy.net/files/selenium/sample1.html)"
   ]
  },
  {
   "cell_type": "code",
   "execution_count": 1,
   "outputs": [],
   "source": [
    "from selenium import webdriver\n",
    "from selenium.webdriver.chrome.service import Service\n",
    "from selenium.common.exceptions import NoSuchElementException\n",
    "\n",
    "# 创建 WebDriver 对象，指明使用chrome浏览器驱动\n",
    "wd = webdriver.Chrome(executable_path=r'D:\\chromedriver_win32\\chromedriver.exe')\n",
    "\n",
    "# 调用WebDriver 对象的get方法 可以让浏览器打开指定网址\n",
    "wd.get('https://cdn2.byhy.net/files/selenium/sample1.html')"
   ],
   "metadata": {
    "collapsed": false,
    "pycharm": {
     "name": "#%%\n"
    }
   }
  },
  {
   "cell_type": "code",
   "execution_count": 5,
   "outputs": [
    {
     "name": "stdout",
     "output_type": "stream",
     "text": [
      "狮子\n",
      "老虎\n",
      "山羊\n"
     ]
    }
   ],
   "source": [
    "# 通过class来寻找元素的对象，可以看出找出的animal类型的元素共有三个\n",
    "# 返回的数据类型为list，list中的单个元素为selenium element类型\n",
    "elements = wd.find_elements_by_class_name('animal')\n",
    "for item in elements:\n",
    "    # 通过element的text属性可以查看控件的文本内容\n",
    "    print(item.text)\n",
    "\"\"\"\n",
    "find_elements选择的是满足条件的所有元素，若不存在满足条件的元素，则返回空列表\n",
    "find_element选择的是第一个满足条件的元素，若不存在满足条件的元素，则抛出异常\n",
    "\"\"\""
   ],
   "metadata": {
    "collapsed": false,
    "pycharm": {
     "name": "#%%\n"
    }
   }
  },
  {
   "cell_type": "code",
   "execution_count": 8,
   "outputs": [
    {
     "name": "stdout",
     "output_type": "stream",
     "text": [
      "土豆\n",
      "洋葱\n",
      "白菜\n",
      "狮子\n",
      "老虎\n",
      "山羊\n",
      "内层11\n",
      "内层12\n",
      "内层21\n",
      "版权\n",
      "发布日期：2018-03-03\n",
      "备案号 苏ICP备88885574号\n"
     ]
    }
   ],
   "source": [
    "# 根据标签名来获取元素\n",
    "tag_elements = wd.find_elements_by_tag_name('span')\n",
    "for item in tag_elements:\n",
    "    print(item.text)"
   ],
   "metadata": {
    "collapsed": false,
    "pycharm": {
     "name": "#%%\n"
    }
   }
  },
  {
   "cell_type": "code",
   "execution_count": null,
   "outputs": [],
   "source": [],
   "metadata": {
    "collapsed": false,
    "pycharm": {
     "name": "#%%\n"
    }
   }
  }
 ],
 "metadata": {
  "kernelspec": {
   "display_name": "Python 3",
   "language": "python",
   "name": "python3"
  },
  "language_info": {
   "codemirror_mode": {
    "name": "ipython",
    "version": 2
   },
   "file_extension": ".py",
   "mimetype": "text/x-python",
   "name": "python",
   "nbconvert_exporter": "python",
   "pygments_lexer": "ipython2",
   "version": "2.7.6"
  }
 },
 "nbformat": 4,
 "nbformat_minor": 0
}