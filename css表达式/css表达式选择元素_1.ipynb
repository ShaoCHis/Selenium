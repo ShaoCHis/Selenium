{
 "cells": [
  {
   "cell_type": "markdown",
   "metadata": {
    "collapsed": true,
    "pycharm": {
     "name": "#%% md\n"
    }
   },
   "source": [
    "# 通过CSS selector语法选择元素-上\n",
    ">原理：HTML中经常要为 某些元素 指定显示效果，比如：前景文字颜色是红色，背景颜色是黑色，字体等；那么css中必须告诉浏览器：要选择哪些元素来使用这样的显示风格"
   ]
  },
  {
   "cell_type": "code",
   "execution_count": null,
   "outputs": [],
   "source": [
    "from selenium import webdriver\n",
    "from selenium.webdriver.chrome.service import Service\n",
    "from selenium.common.exceptions import NoSuchElementException\n",
    "\n",
    "# 创建 WebDriver 对象，指明使用chrome浏览器驱动\n",
    "wd = webdriver.Chrome(executable_path=r'D:\\chromedriver_win32\\chromedriver.exe')\n",
    "\n",
    "# 调用WebDriver 对象的get方法 可以让浏览器打开指定网址\n",
    "wd.get('https://cdn2.byhy.net/files/selenium/sample1.html')"
   ],
   "metadata": {
    "collapsed": false,
    "pycharm": {
     "name": "#%%\n"
    }
   }
  },
  {
   "cell_type": "code",
   "execution_count": null,
   "outputs": [],
   "source": [
    "# css_selector：class------->.value\n",
    "element = wd.find_element_by_css_selector('.plant')\n",
    "# 等价于 element = wd.find_element_by_class_name('plant')\n",
    "\n",
    "# css_selector：tag--------->tag\n",
    "element = wd.find_element_by_css_selector('span')\n",
    "# 等价于 element = wd.find_element_by_tag_name('span')\n",
    "\n",
    "# css_selector：id---------->#id\n",
    "element = wd.find_element_by_css_selector('#kw')\n",
    "# 等价于 element = wd.find_element_by_id('kw')"
   ],
   "metadata": {
    "collapsed": false,
    "pycharm": {
     "name": "#%%\n"
    }
   }
  },
  {
   "cell_type": "markdown",
   "source": [
    "### 选择子元素和后代元素\n",
    "> HTML中，元素内部可以包含其他元素\n",
    "> 例如:下方中\n",
    "> container 含有两个子元素：layer1 和 layer2；inner11 和 inner22 以及 inner21 不是container的子元素，是container的后代元素\n",
    "> layer1 含有两个子元素：inner11 和 inner22\n",
    "> layer2 仅含有一个子元素：inner21\n",
    "\n",
    "```html\n",
    "<div id='container'>\n",
    "    <div id='layer1'>\n",
    "        <div id='inner11'>\n",
    "            <span>内层11</span>\n",
    "        </div>\n",
    "        <div id='inner12'>\n",
    "            <span>内层12</span>\n",
    "        </div>\n",
    "    </div>\n",
    "    <div id='layer2'>\n",
    "        <div id='inner21'>\n",
    "            <span>内层21</span>\n",
    "        </div>\n",
    "    </div>\n",
    "</div>\n",
    "```\n",
    "\n",
    "如果*元素2*是*元素1*的直接子元素，CSS Selector 选择子元素的语法为：\n",
    ">元素1>元素2；例如： #ok>.plant\n",
    "\n",
    "中间使用一个大于号，我们可以理解为箭头：\n",
    "注意，最终选择的元素是 *元素2*，并且要求这个 *元素2* 是 *元素1* 的直接子元素\n",
    "也支持更多层级的选择，比如\n",
    ">元素1>元素2>元素3>元素4；例如： #ok>#hello>.plant>span\n",
    "\n",
    "就是选择*元素1*里面的子元素*元素2*里面的子元素*元素3*里面的子元素*元素4*，最终选择的元素是*元素4*\n",
    "\n",
    "如果*元素2*是*元素1*的后代元素，CSS Selector选择后代元素的语法是这样的：\n",
    ">元素1 元素2；以空格隔开；例如： #ok .plant\n",
    "\n",
    "最终选择的元素是*元素2*，并且要求这个*元素2*是*元素1*的后代元素\n",
    "\n",
    "同样支持更多层级的选择，比如：\n",
    ">元素1 元素2 元素3 元素4；例如： #ok #hello .plant span\n",
    "\n",
    "最终选择的元素是*元素4*\n",
    "\n",
    "同样，>和 可以进行混用，注意其前后逻辑关系"
   ],
   "metadata": {
    "collapsed": false,
    "pycharm": {
     "name": "#%% md\n"
    }
   }
  },
  {
   "cell_type": "code",
   "execution_count": null,
   "outputs": [],
   "source": [
    "# 找到id=container的后代元素中id=inner11的元素的子元素span\n",
    "wd.find_element_by_css_selector('#container #inner11>span')"
   ],
   "metadata": {
    "collapsed": false,
    "pycharm": {
     "name": "#%%\n"
    }
   }
  },
  {
   "cell_type": "markdown",
   "source": [
    "### 使用通用的属性语法选择器来选择元素\n",
    ">在上述的举例中，我们发现了id，class，tag的特殊查找方式，但针对于其他的属性，例如：type、text、href等通用属性需要另外一些语法\n",
    "\n",
    "*css* 选择器支持通过任何属性来选择元素，语法是用一个方括号[]\n",
    "```html\n",
    "<a href=\"https://www.baidu.com\">百度</a>\n",
    "```\n",
    "\n",
    "比如：要选择上面的a元素，就可以使用*[href='https://www.baidu.com']*。这个表达式的意思是，选择属性href值为 *https://www.baidu.com* 的元素"
   ],
   "metadata": {
    "collapsed": false,
    "pycharm": {
     "name": "#%% md\n"
    }
   }
  },
  {
   "cell_type": "code",
   "execution_count": null,
   "outputs": [],
   "source": [
    "wd.find_element_by_css_selector('[href=\"https://www.baidu.com\"]')\n",
    "\n",
    "# 找到页面中有href属性的元素\n",
    "wd.find_element_by_css_selector('[href]')\n",
    "\n",
    "# 当然前面可以加上标签名以及其他属性:找到tag为div且class=plant的元素\n",
    "wd.find_element_by_css_selector('div[class=\"plant\"]')\n",
    "# 找到id为head且class=plant的元素\n",
    "wd.find_element_by_css_selector('#head[class=\"plant\"]')\n",
    "# 找到class为head且name=\"plant\"的元素\n",
    "wd.find_element_by_css_selector('.head[name=\"plant\"]')"
   ],
   "metadata": {
    "collapsed": false,
    "pycharm": {
     "name": "#%%\n"
    }
   }
  },
  {
   "cell_type": "markdown",
   "source": [
    "### 可以在Chrome中验证CSS Selector语法表达式是否正确\n",
    "在elements中摁 Ctrl+F进行输入查找"
   ],
   "metadata": {
    "collapsed": false,
    "pycharm": {
     "name": "#%% md\n"
    }
   }
  },
  {
   "cell_type": "code",
   "execution_count": null,
   "outputs": [],
   "source": [],
   "metadata": {
    "collapsed": false,
    "pycharm": {
     "name": "#%%\n"
    }
   }
  }
 ],
 "metadata": {
  "kernelspec": {
   "display_name": "Python 3",
   "language": "python",
   "name": "python3"
  },
  "language_info": {
   "codemirror_mode": {
    "name": "ipython",
    "version": 2
   },
   "file_extension": ".py",
   "mimetype": "text/x-python",
   "name": "python",
   "nbconvert_exporter": "python",
   "pygments_lexer": "ipython2",
   "version": "2.7.6"
  }
 },
 "nbformat": 4,
 "nbformat_minor": 0
}