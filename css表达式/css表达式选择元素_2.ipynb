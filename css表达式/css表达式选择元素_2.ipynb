{
 "cells": [
  {
   "cell_type": "markdown",
   "metadata": {
    "collapsed": true,
    "pycharm": {
     "name": "#%% md\n"
    }
   },
   "source": [
    "# 通过CSS selector语法选择元素-下\n",
    "Css Selector选择语法可以联合使用\n",
    "\n",
    "> #bottom .footer1 >span.copyright"
   ]
  },
  {
   "cell_type": "markdown",
   "source": [
    "### 或条件筛选元素\n",
    ">在进行元素筛选时，可能存在两种条件，满足任一条件即可进行元素筛选的结果，采取,隔开筛选条件即可\n",
    "\n",
    "例如：我们需要筛选得到class为plant或animal的元素\n",
    ">wd.find_element_by_css_selector('.plant,.animal')\n",
    "\n"
   ],
   "metadata": {
    "collapsed": false,
    "pycharm": {
     "name": "#%% md\n"
    }
   }
  },
  {
   "cell_type": "code",
   "execution_count": null,
   "outputs": [],
   "source": [],
   "metadata": {
    "collapsed": false,
    "pycharm": {
     "name": "#%%\n"
    }
   }
  }
 ],
 "metadata": {
  "kernelspec": {
   "display_name": "Python 3",
   "language": "python",
   "name": "python3"
  },
  "language_info": {
   "codemirror_mode": {
    "name": "ipython",
    "version": 2
   },
   "file_extension": ".py",
   "mimetype": "text/x-python",
   "name": "python",
   "nbconvert_exporter": "python",
   "pygments_lexer": "ipython2",
   "version": "2.7.6"
  }
 },
 "nbformat": 4,
 "nbformat_minor": 0
}