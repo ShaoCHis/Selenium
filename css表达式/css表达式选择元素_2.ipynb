{
 "cells": [
  {
   "cell_type": "markdown",
   "metadata": {
    "collapsed": true,
    "pycharm": {
     "name": "#%% md\n"
    }
   },
   "source": [
    "# 通过CSS selector语法选择元素-下\n",
    "Css Selector选择语法可以联合使用\n",
    "\n",
    "> #bottom .footer1 >span.copyright"
   ]
  },
  {
   "cell_type": "markdown",
   "source": [
    "### 或条件筛选元素\n",
    ">在进行元素筛选时，可能存在两种条件，满足任一条件即可进行元素筛选的结果，采取,隔开筛选条件即可\n",
    "\n",
    "例如：我们需要筛选得到class为plant或animal的元素\n",
    ">wd.find_element_by_css_selector('.plant,.animal')\n",
    "\n",
    "如果需要选择一个id下的多个tag名称，需要的写法为：\n",
    ">#t1>span,#t1>p；而不是#t1>span,p；并列的优先级较高！！！！"
   ],
   "metadata": {
    "collapsed": false,
    "pycharm": {
     "name": "#%% md\n"
    }
   }
  },
  {
   "cell_type": "markdown",
   "source": [
    "### 按次序选择子节点\n",
    "\n",
    "[练习网站](https://cdn2.byhy.net/files/selenium/sample1b.html)\n",
    "\n",
    "对应HTML为：\n",
    "```html\n",
    "<body>\n",
    "   <div id='t1'>\n",
    "       <h3> 唐诗 </h3>\n",
    "       <span>李白</span>\n",
    "       <p>静夜思</p>\n",
    "       <span>杜甫</span>\n",
    "       <p>春夜喜雨</p>\n",
    "   </div>\n",
    "\n",
    "   <div id='t2'>\n",
    "       <h3> 宋词 </h3>\n",
    "       <span>苏轼</span>\n",
    "       <p>赤壁怀古</p>\n",
    "       <p>明月几时有</p>\n",
    "       <p>江城子·乙卯正月二十日夜记梦</p>\n",
    "       <p>蝶恋花·春景</p>\n",
    "       <span>辛弃疾</span>\n",
    "       <p>京口北固亭怀古</p>\n",
    "       <p>青玉案·元夕</p>\n",
    "       <p>西江月·夜行黄沙道中</p>\n",
    "   </div>\n",
    "\n",
    "</body>\n",
    "```\n",
    "- 父元素的第n个子结点：我们可以指定选择的元素是父元素的第几个子结点，使用*nth-child*\n",
    ">比如我们要选择 唐诗 和 宋词 的第一个作者，也就是说选择的是第2个元素，并且是span类型，所以可以这样写 *span:nth-child(2)*\n",
    ">如果不加节点类型的限制，直接这样写： :nth-child(2)就是选择所有位置为第2个的所有元素，不管是什么类型\n",
    ">>举例：.plant input:nth-child(1)==========>含义，找到类名为class的所有下属节点，且input作为任一节点的第一子节点的*input元素*\n",
    ">>在下面的例子中，最终得到的元素为input class=\"form-control\" value=\"placeholder\">，而不会查找到input class=\"active\" value=\"placeholder\">，因为其并不是任一节点的第一子结点\n",
    "```html\n",
    "<div class=\"plant\">\n",
    "    <div style=\"margin-top: 2px\">\n",
    "    \"客户名\"\n",
    "        <input class=\"form-control\" value=\"placeholder\">\n",
    "    </div>\n",
    "    <div>\n",
    "        <p>hhh</p>\n",
    "        <input class=\"active\" value=\"placeholder\">\n",
    "    </div>\n",
    "</div>\n",
    "```\n",
    "- 父元素的倒数第n个子结点：选择的是父元素的倒数第几个子结点，使用*nth-last-child*\n",
    ">比如：    p:nth-last-child(1);选择的是倒数第一个子结点为p的p元素\n",
    "- 父元素的第几个某类型的子结点：我们可以指定选择的元素是父元素的第几个某类型的子结点，使用*nth-of-type()*\n",
    ">比如：我们要选择 唐诗和宋词 的第一个作者，可以像上面那个：选择的是第2个子元素并且是span类型，所以可以写为*span:nth-child(2)*\n",
    ">还可以思考为：选择的是第一个span类型的子元素，所以也可以写成*span:nth-of-type(1)*\n",
    "- 同理：父元素的倒数第几个某类型的子节点；我们可以选择父元素的倒数第几个某类型的子节点，使用*nth-last-of-type*\n",
    ">例如：p:nth-last-of-type(2)选择倒数第二个为p元素的p元素\n",
    "\n",
    "### 奇数节点和偶数节点\n",
    "- 如果要选择的是父元素的偶数节点，使用*nth-child(even)*\n",
    ">比如：    p:nth-child(even)\n",
    "- 如果要选择的是父元素的奇数节点，使用*nth-child(odd)*\n",
    ">比如：    p:nth-child(odd)\n",
    "- 如果要选择的是父元素的某类型偶数节点，使用 *nth-of-type(even)*\n",
    "- 如果要选择的是父元素的某类型奇数节点，使用 *nth-of-type(odd)*\n",
    "\n",
    "### 兄弟节点选择\n",
    "- 相邻兄弟节点选择\n",
    ">上面的例子中，我们要选择 唐诗和宋词 的第一个作者，还有一种思考方法，就是选择h3后面紧跟的兄弟节点span；这就是一种相邻兄弟关系，可以这样写：h3+span；表示元素紧跟关系的是*加号*\n",
    "- 后续所有兄弟节点选择\n",
    ">如果要选择是 选择h3后面所有的兄弟节点span，可以这样写 h3~span"
   ],
   "metadata": {
    "collapsed": false,
    "pycharm": {
     "name": "#%% md\n"
    }
   }
  }
 ],
 "metadata": {
  "kernelspec": {
   "display_name": "Python 3",
   "language": "python",
   "name": "python3"
  },
  "language_info": {
   "codemirror_mode": {
    "name": "ipython",
    "version": 2
   },
   "file_extension": ".py",
   "mimetype": "text/x-python",
   "name": "python",
   "nbconvert_exporter": "python",
   "pygments_lexer": "ipython2",
   "version": "2.7.6"
  }
 },
 "nbformat": 4,
 "nbformat_minor": 0
}